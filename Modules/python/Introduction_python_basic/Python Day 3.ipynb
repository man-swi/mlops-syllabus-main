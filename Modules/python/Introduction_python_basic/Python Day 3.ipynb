{
 "cells": [
  {
   "cell_type": "markdown",
   "id": "b8e059f7-5665-41b7-9dac-30ce72676492",
   "metadata": {},
   "source": [
    "# Day - 3\n",
    "\n",
    "## Exception handling\n",
    "\n",
    "When flow of programist interrupted because of because of certain anomalies then that particular event is called as Exception."
   ]
  },
  {
   "cell_type": "code",
   "execution_count": null,
   "id": "0b959dc5-9f43-4640-93c9-342894a64ef0",
   "metadata": {},
   "outputs": [],
   "source": [
    "def function1():\n",
    "    try:\n",
    "        print(\"hi I am in function1\")\n",
    "        return 1/0\n",
    "        print(\"write in log file\")\n",
    "    except ZeroDivisionError as e:\n",
    "        #raise Exception(\"Test\") # During handling of exception, another exception occured\n",
    "        print(e)\n",
    "        print(\"inside ZeroDivisionError\")\n",
    "    except Exception as e:\n",
    "        print(e)\n",
    "        print(\"inside Exception\")\n",
    "    finally:\n",
    "        print(\"inside finally\")\n",
    "function1()"
   ]
  },
  {
   "cell_type": "code",
   "execution_count": null,
   "id": "ba7c4e8c-2134-406e-85af-4991be3800fe",
   "metadata": {},
   "outputs": [],
   "source": [
    "def functionraise(a):\n",
    "    try:\n",
    "        if not a:\n",
    "            raise Exception('a is empty')\n",
    "        else:\n",
    "            print(a)\n",
    "    except Exception as e:\n",
    "        print(\"In func\")\n",
    "        print(e)\n",
    "        \n",
    "def callfunction():\n",
    "    try:\n",
    "        functionraise(a = None)\n",
    "    except Exception as e:\n",
    "        print(\"In callfunction\")\n",
    "        print(e)\n",
    "callfunction()"
   ]
  },
  {
   "cell_type": "code",
   "execution_count": null,
   "id": "a778eccc-0c78-4558-acae-bd673b9a0356",
   "metadata": {},
   "outputs": [],
   "source": [
    "%%HTML\n",
    "<iframe width=\"560\" height=\"320\" src=\"https://docs.python.org/3/library/exceptions.html\" frameborder=\"0\" allowfullscreen></iframe>"
   ]
  },
  {
   "cell_type": "markdown",
   "id": "c2c91d43-9392-4301-8068-6bf9d200ac5a",
   "metadata": {},
   "source": [
    "## Iterator\n",
    "\n",
    "Iteration means processing items from a sequence one after another. Eg: Loops in python, an iterator is an object which implements the iterator protocol. The iterator protocol is built using two methods\n",
    "\n",
    "\\_\\_iter():\\_\\_ returns iterator object\n",
    "\n",
    "\\_\\_next():\\_\\_ get the next value from iterator, it raises StopIteration exception when the iterator values are exhausted"
   ]
  },
  {
   "cell_type": "code",
   "execution_count": null,
   "id": "a05326df-084b-4128-ad18-3505d52d6cd4",
   "metadata": {},
   "outputs": [],
   "source": [
    "# To check all the available methods on and object (in this case list) use\n",
    "list1 = [1,3,4]\n",
    "dir(list1)"
   ]
  },
  {
   "cell_type": "code",
   "execution_count": null,
   "id": "f7814931-780b-44e1-80e4-078495bb7fbd",
   "metadata": {},
   "outputs": [],
   "source": [
    "itr_obj = iter(list1)\n",
    "itr_obj\n",
    "print(type(itr_obj))"
   ]
  },
  {
   "cell_type": "code",
   "execution_count": null,
   "id": "6501dc1b-3bf3-4c70-bb09-58a27f4b00c0",
   "metadata": {},
   "outputs": [],
   "source": [
    "next(itr_obj)"
   ]
  },
  {
   "cell_type": "markdown",
   "id": "5e164ae3-c27b-4b68-a5fc-9b37b141a768",
   "metadata": {},
   "source": [
    "<span>**NOTE:**</span> single _ and double __ in above methods this signifies Data Encapsulation"
   ]
  },
  {
   "cell_type": "markdown",
   "id": "2ee8aa14-66f0-4ee9-81bb-42ec54324b8d",
   "metadata": {},
   "source": [
    "<span>**<span style=\"color:red\">Hands-On:</span> How to reverse the output of next?** - Explore reversed method of list</span>\n",
    "\n",
    "<span style=\"color:red\">**Question:**</span> What do we have in any traditional programming language to demonstrate Data Encapsulation?"
   ]
  },
  {
   "cell_type": "markdown",
   "id": "25898be8-aef2-4e7e-810e-a2e09afdde13",
   "metadata": {},
   "source": [
    "### Data Encapsulation\n",
    "\n",
    "#### Access Specifiers\n",
    "\n",
    "<span>**name**</span> is <span style=\"color:red\">**Public**</span> and it can be accessed from inside or outside of a class\n",
    "\n",
    "<span>**_name**</span> is <span style=\"color:red\">**Protected**</span> it can be accessed by the class or sub-class, but it should not be directly accessed outside class or sub-class\n",
    "\n",
    "<span>**__name**</span> is <span style=\"color:red\">**Private**</span> it should not be accessed outside class"
   ]
  },
  {
   "cell_type": "code",
   "execution_count": null,
   "id": "55eec158",
   "metadata": {},
   "outputs": [],
   "source": [
    "class Parent:\n",
    "    def parent_public(self):\n",
    "        print(\"I am parent_public\")\n",
    "        \n",
    "    def _parent_protected(self):\n",
    "        print(\"I am _parent_protected\")\n",
    "        \n",
    "    def __parent_private(self):\n",
    "        print(\"I am __parent_private\")\n",
    "        \n",
    "    def call_parent_private(self):\n",
    "        print(\"START call_parent_private\")\n",
    "        self.__parent_private()\n",
    "        print(\"END call_parent_private\")\n",
    "\n",
    "class Child(Parent):\n",
    "    def child_public(self):\n",
    "        print(\"I am child_public\")\n",
    "        \n",
    "    def _child_protected(self):\n",
    "        print(\"I am _child_protected\")\n",
    "        \n",
    "    def __child_private(self):\n",
    "        print(\"I am __child_private\")\n",
    "        \n",
    "    def call_parent_private(self):\n",
    "        print(\"START call_parent_private\")\n",
    "        self.__parent_private()\n",
    "        print(\"END call_parent_private\")\n",
    "        \n",
    "\n",
    "parent = Parent()\n",
    "parent.parent_public()\n",
    "parent._parent_protected()\n",
    "parent.call_parent_private()\n",
    "#parent.__parent_private()\n",
    "# Why is private method not accessible?\n",
    "# Is there a way to access private method outside the class?\n",
    "# To find out how to execute private method of a class check dir\n",
    "#print(dir(parent))\n",
    "\n",
    "print()\n",
    "print(\"=\"*20)\n",
    "# child = Child()\n",
    "# # public\n",
    "# child.child_public()\n",
    "# child.parent_public()\n",
    "# # protected\n",
    "# child._parent_protected()\n",
    "# child._child_protected()\n",
    "# # private\n",
    "# child.__parent_private()\n",
    "# child.call_parent_private()\n",
    "# print(dir(child))\n"
   ]
  },
  {
   "cell_type": "markdown",
   "id": "5b1e85c2-9dee-440c-b1b5-93305e37e703",
   "metadata": {},
   "source": [
    "### Dunder methods\n",
    "The \\__next\\_\\_() method is internally called by the built-in next() function. For example, if you call next(x) an object x, Python internally calls x.\\_\\_next\\_\\_() to determine the next element of the iterable object x.\n",
    "\n",
    "https://docs.python.org/3/library/functions.html#next"
   ]
  },
  {
   "cell_type": "markdown",
   "id": "657c8c83-1b64-4e08-b881-d5a691a9b7cb",
   "metadata": {},
   "source": [
    "### Custom Iterator\n",
    "\n",
    "We can create a custom iterator inside any user defined class by implementing \\_\\_iter\\_\\_() and \\_\\_next\\_\\_() methods"
   ]
  },
  {
   "cell_type": "code",
   "execution_count": null,
   "id": "2d04e2bf-00e7-4447-a5fb-81eed3d05a97",
   "metadata": {},
   "outputs": [],
   "source": [
    "class PowerOf2:\n",
    "    \"\"\"This class implements iterator to return powers of 2\"\"\"\n",
    "    def __init__(self, _max=0):\n",
    "        self.n = 0\n",
    "        self._max = _max\n",
    "\n",
    "    def __iter__(self):\n",
    "        return self\n",
    "\n",
    "    def __next__(self):\n",
    "        if self.n <= self._max:\n",
    "            result = 2 ** self.n\n",
    "            self.n += 1\n",
    "            return result\n",
    "        else:\n",
    "            raise StopIteration\n",
    "\n",
    "# Create object of square\n",
    "power_of_2_obj = PowerOf2(4)\n",
    "\n",
    "# Create an iterable from the object\n",
    "i = iter(power_of_2_obj)\n",
    "\n",
    "# Use next to get the next item in iterator\n",
    "print(next(i)) # 1\n",
    "print(next(i)) # 2\n",
    "print(next(i)) # 4\n",
    "print(next(i)) # 8\n",
    "print(next(i)) # 16\n",
    "print(next(i)) # raises StopIteration exception\n",
    "\n",
    "# # \"for\" loop automatically breaks at StopIteration exception\n",
    "# for i in PowerOf2(10):\n",
    "#     print(i)"
   ]
  },
  {
   "cell_type": "code",
   "execution_count": null,
   "id": "c8c98844-47d1-4c01-a780-3db9bde635d2",
   "metadata": {},
   "outputs": [],
   "source": [
    "# Create object of square\n",
    "power_of_2_obj = PowerOf2(4)\n",
    "\n",
    "# Create an iterable from the object\n",
    "i = iter(power_of_2_obj)\n",
    "\n",
    "# Use __next__ to get the next item in iterator\n",
    "print(i.__next__()) # 1\n",
    "print(i.__next__()) # 2\n",
    "print(i.__next__()) # 4\n",
    "print(i.__next__()) # 8\n",
    "print(i.__next__()) # 16\n",
    "print(i.__next__()) # raises StopIteration exception\n",
    "\n",
    "# # \"for\" loop automatically breaks at StopIteration exception\n",
    "# for i in PowerOf2(10):\n",
    "#     print(i)"
   ]
  },
  {
   "cell_type": "markdown",
   "id": "a2038335-de37-4482-be25-d0df69e1e15e",
   "metadata": {},
   "source": [
    "## Generators\n",
    "\n",
    "Generator is similar to iterator i.e, it is used for generating sequences. However, one major difference between Generators and Iterators is that unlike iterators, generators do not store all the items in memory at once\n",
    "\n",
    "When a normal function with a return statement is called, it terminates whenever it gets a return statement. But a function with a yield statement saves the state of the function and can be picked up from the same state, next time the function is called.\n",
    "\n",
    "<span>**<span style=\"color:red\">NOTE:</span> yield** keyword is used for creating generators</span>"
   ]
  },
  {
   "cell_type": "code",
   "execution_count": null,
   "id": "32ac14a0-bfc7-415b-8dd9-161196431d1f",
   "metadata": {},
   "outputs": [],
   "source": [
    "def next_fruit():\n",
    "    yield \"Apple\"\n",
    "    yield \"Banana\"\n",
    "    yield \"Blackberry\"\n",
    "\n",
    "iter_obj = next_fruit()\n",
    "print(iter_obj)"
   ]
  },
  {
   "cell_type": "code",
   "execution_count": null,
   "id": "fae5028e-24e5-402c-924a-dd037fe2d580",
   "metadata": {},
   "outputs": [],
   "source": [
    "print(next(iter_obj))"
   ]
  },
  {
   "cell_type": "code",
   "execution_count": null,
   "id": "fd119d2b-7d6f-4a1d-afad-e7df30e83761",
   "metadata": {},
   "outputs": [],
   "source": [
    "def list_funct1():\n",
    "    list1 = [1,2,3]\n",
    "    for i in list1:\n",
    "        yield i\n",
    "\n",
    "iter_func1 = list_funct1()\n",
    "print(iter_func1)"
   ]
  },
  {
   "cell_type": "code",
   "execution_count": null,
   "id": "2d4be809-12a1-4b31-94ed-78ffd60ced1b",
   "metadata": {},
   "outputs": [],
   "source": [
    "print(next(iter_func1))"
   ]
  },
  {
   "cell_type": "markdown",
   "id": "c0d0ebeb-5505-48e7-8b50-570c87cc1872",
   "metadata": {},
   "source": [
    "### Generator Expression\n",
    "\n",
    "Generator expressions allow the creation of a generator on-the-fly without a yield keyword"
   ]
  },
  {
   "cell_type": "code",
   "execution_count": null,
   "id": "899966ba-7aae-47a7-a10e-54b48e7203ab",
   "metadata": {},
   "outputs": [],
   "source": [
    "gen_exp = (x ** 2 for x in range(10) if x % 2 == 0)\n",
    "# print(next(gen_exp))\n",
    "# for item in gen_exp:\n",
    "#     print(item)"
   ]
  },
  {
   "cell_type": "code",
   "execution_count": null,
   "id": "256b8569-d28b-4b7b-9223-f6588a1268df",
   "metadata": {},
   "outputs": [],
   "source": [
    "print(next(gen_exp))"
   ]
  },
  {
   "cell_type": "markdown",
   "id": "88ca21eb-136e-4f02-b883-f42a80719228",
   "metadata": {},
   "source": [
    "<span style=\"color:red\">**Q.** Why write generator expression when we can do it using list comprehension?</span>"
   ]
  },
  {
   "cell_type": "code",
   "execution_count": null,
   "id": "9083e6db-9521-4563-aaa8-dde8e9cb511b",
   "metadata": {},
   "outputs": [],
   "source": [
    "sq_list = [x ** 2 for x in range(10) if x % 2 == 0]\n",
    "print(sq_list)"
   ]
  },
  {
   "cell_type": "code",
   "execution_count": null,
   "id": "5b34dc2b-6c67-4bd4-b937-efeee2ea5c65",
   "metadata": {},
   "outputs": [],
   "source": [
    "from sys import getsizeof\n",
    "sq_list = [x ** 2 for x in range(10) if x % 2 == 0]\n",
    "gen_exp = (x ** 2 for x in range(10) if x % 2 == 0)\n",
    "print(sq_list)\n",
    "print(getsizeof(sq_list))\n",
    "print(gen_exp)\n",
    "print(getsizeof(gen_exp))\n",
    "sq_list = [x ** 2 for x in range(100) if x % 2 == 0]\n",
    "gen_exp = (x ** 2 for x in range(100) if x % 2 == 0)\n",
    "#print(sq_list)\n",
    "print(getsizeof(sq_list))\n",
    "#print(gen_exp)\n",
    "print(getsizeof(gen_exp))\n",
    "sq_list = [x ** 2 for x in range(1000) if x % 2 == 0]\n",
    "gen_exp = (x ** 2 for x in range(1000) if x % 2 == 0)\n",
    "#print(sq_list)\n",
    "print(getsizeof(sq_list))\n",
    "#print(gen_exp)\n",
    "print(getsizeof(gen_exp))"
   ]
  },
  {
   "cell_type": "markdown",
   "id": "6878619f-cd8d-4104-937b-a5ced3eb2869",
   "metadata": {},
   "source": [
    "## Decorator\n",
    "\n",
    "In python decorators allow us to extend the functionality of python functions and methods without changing their definition"
   ]
  },
  {
   "cell_type": "code",
   "execution_count": null,
   "id": "e746f914-7787-48b9-abfc-8b5ed3ed925f",
   "metadata": {},
   "outputs": [],
   "source": [
    "# Issues if decorators are not used\n",
    "# Add two numbers and multiply by two\n",
    "def add(num1, num2):\n",
    "    return num1 + num2\n",
    "\n",
    "print(add(3, 5) * 2) # Have to add multiply by 2 everywhere\n",
    "print(add(2, 5) * 2) "
   ]
  },
  {
   "cell_type": "code",
   "execution_count": null,
   "id": "7148c96e-f013-40c0-9f38-310fa752ef76",
   "metadata": {},
   "outputs": [],
   "source": [
    "def multiply_result_by_2(func):\n",
    "    def inner(*args, **kwargs):\n",
    "        print(f\"args= {args}, kwargs= {kwargs}\")\n",
    "        result = func(*args, **kwargs)\n",
    "        print(\"result= \", result)\n",
    "        return 2 * result\n",
    "    return inner\n",
    "\n",
    "@multiply_result_by_2\n",
    "def add(num1, num2):\n",
    "    return num1 + num2\n",
    "print(add(3, 5))\n",
    "print()\n",
    "\n",
    "@multiply_result_by_2\n",
    "def add(num1, num2):\n",
    "    return num1 + num2\n",
    "print(add(num1=4, num2=6))\n",
    "print()\n",
    "\n",
    "# Method Decorator\n",
    "class Maths:\n",
    "    @multiply_result_by_2\n",
    "    def add(self, num1, num2):\n",
    "        return num1 + num2\n",
    "obj = Maths()\n",
    "print(obj.add(3, 5)) #self also becomes an argument\n",
    "print(obj.add(num1=4, num2=6)) #self also becomes an argument"
   ]
  },
  {
   "cell_type": "code",
   "execution_count": null,
   "id": "59e2fcde-109e-4123-8abe-b5936ca98999",
   "metadata": {},
   "outputs": [],
   "source": [
    "# Under the hood\n",
    "def add(num1, num2):\n",
    "    return num1 + num2\n",
    "\n",
    "\n",
    "def multiply_result_by_2(func):\n",
    "    def inner(*args, **kwargs):\n",
    "        print(f\"args= {args}, kwargs= {kwargs}\")\n",
    "        result = func(*args, **kwargs)\n",
    "        print(\"result= \", result)\n",
    "        return 2 * result\n",
    "    return inner\n",
    "\n",
    "print(multiply_result_by_2(add))\n",
    "print(multiply_result_by_2(add)(3, 5))"
   ]
  },
  {
   "cell_type": "markdown",
   "id": "b3221045-9681-483e-a3ff-d103f1199b36",
   "metadata": {},
   "source": [
    "### Decorator Precedence\n",
    "\n",
    "It is on first come first executed basis (FCFE)"
   ]
  },
  {
   "cell_type": "code",
   "execution_count": null,
   "id": "1bca48b1-8d37-400d-9959-96052c917cdb",
   "metadata": {},
   "outputs": [],
   "source": [
    "def star_line(func):\n",
    "    def inner():\n",
    "        print(\"*\" * 15)\n",
    "        func()\n",
    "        print(\"*\" * 15)\n",
    "    return inner\n",
    "\n",
    "def percent_line(func):\n",
    "    def inner():\n",
    "        print(\"%\" * 15)\n",
    "        func()\n",
    "        print(\"%\" * 15)\n",
    "    return inner\n",
    "\n",
    "@star_line\n",
    "@percent_line\n",
    "def hello():\n",
    "    print(\"Hello, World!\")\n",
    "hello()\n",
    "print()\n",
    "\n",
    "@percent_line\n",
    "@star_line\n",
    "def hello():\n",
    "    print(\"Hello, World!\")\n",
    "hello()"
   ]
  },
  {
   "cell_type": "markdown",
   "id": "b7295b3b-ea36-4040-a026-db5349102823",
   "metadata": {},
   "source": [
    "### Parameterized decorator"
   ]
  },
  {
   "cell_type": "code",
   "execution_count": null,
   "id": "c39d18f2-9cdb-4f43-a945-900f717da4c7",
   "metadata": {},
   "outputs": [],
   "source": [
    "def multiply_by(multiply_factor):\n",
    "    def wrapper(func):\n",
    "        def inner(*args, **kwargs):\n",
    "            print(f\"args= {args}, kwargs= {kwargs}\")\n",
    "            print(f\"mutiply_factor= {multiply_factor}\")\n",
    "            result = func(*args, **kwargs)\n",
    "            print(\"result= \", result)\n",
    "            return multiply_factor * result\n",
    "        return inner\n",
    "    return wrapper\n",
    "\n",
    "@multiply_by(2)\n",
    "def add(num1, num2):\n",
    "    \n",
    "    return num1 + num2\n",
    "print(add(3, 5))"
   ]
  },
  {
   "cell_type": "markdown",
   "id": "95be1599-41bb-4cbb-b5d3-73d4be9cd75d",
   "metadata": {},
   "source": [
    "## Pandas\n",
    "\n",
    "Pandas is a python library developed to work with huge data sets. Pandas is the first step towards learning DataScience using python as it helps managing huge data sets.\n",
    "\n",
    "If not done already please install pandas using below command\n",
    "\n",
    "**pip install pandas**\n",
    "\n",
    "\n",
    "### What is Pandas\n",
    "The name \"Pandas\" has a reference to both \"Panel Data\", and \"Python Data Analysis\" and was created by Wes McKinney in 2008. Pandas can be used for\n",
    "1. Data Cleaning\n",
    "2. Data Analyzing\n",
    "3. Building conclusions on data based on stastical theories"
   ]
  },
  {
   "cell_type": "code",
   "execution_count": null,
   "id": "98a23bb1-250c-4378-b51b-e5c965dbfeed",
   "metadata": {},
   "outputs": [],
   "source": [
    "import pandas\n",
    "\n",
    "employee = {\n",
    "    'id' : [1, 2, 3],\n",
    "    'name': [\"Chetan\", \"Yogesh\", \"Rishabh\"],\n",
    "    'checkin_time': [9, 9, 10]\n",
    "}\n",
    "\n",
    "employee_df = pandas.DataFrame(employee) # df is a abbreviation for DataFrame\n",
    "\n",
    "print(employee_df)"
   ]
  },
  {
   "cell_type": "markdown",
   "id": "34fbc4e2-3f8d-4684-a384-1661dcb94928",
   "metadata": {},
   "source": [
    "<span>**<span style=\"color:red\">IMPORTANT:</span>** Pandas is usually imported under the pd alias"
   ]
  },
  {
   "cell_type": "code",
   "execution_count": null,
   "id": "833ace23-d625-4775-bd6b-f94ce03281b3",
   "metadata": {},
   "outputs": [],
   "source": [
    "import pandas as pd\n",
    "\n",
    "employee_df = pd.DataFrame(employee) # We used pd here, not pandas\n",
    "print(employee_df)"
   ]
  },
  {
   "cell_type": "markdown",
   "id": "a11ff945-c465-4db5-8f92-5e701b16895c",
   "metadata": {},
   "source": [
    "### Pandas can provide answers about above data like:\n",
    "\n",
    "- Is there a correlation between two or more columns?\n",
    "- What is average value?\n",
    "- Max value?\n",
    "- Min value?"
   ]
  },
  {
   "cell_type": "markdown",
   "id": "7b240412-861e-4d7c-885b-f59c3392ed1d",
   "metadata": {},
   "source": [
    "### Series in Pandas\n",
    "\n",
    "A Pandas Series is like a column in a table. It is a one-dimensional array holding data of any type.\n",
    "\n",
    "**Syntax:** pd.Series(series_data, [index])"
   ]
  },
  {
   "cell_type": "code",
   "execution_count": null,
   "id": "f2d3550f-0532-4a84-b63e-0daa7f325f96",
   "metadata": {},
   "outputs": [],
   "source": [
    "import pandas as pd\n",
    "\n",
    "a = [1, 2, 3, 4, 5]\n",
    "\n",
    "my_col = pd.Series(a)\n",
    "\n",
    "print(my_col)"
   ]
  },
  {
   "cell_type": "markdown",
   "id": "e089cbf2-e9ed-461d-a5a4-46ca4d218401",
   "metadata": {},
   "source": [
    "### Labels in Pandas\n",
    "\n",
    "If nothing else is specified, the values are labeled with their index number. First value has index 0, second value has index 1 etc.\n",
    "This label can be used to access a specified value."
   ]
  },
  {
   "cell_type": "code",
   "execution_count": null,
   "id": "56c667de-78df-4414-b081-bd05d8cc2712",
   "metadata": {},
   "outputs": [],
   "source": [
    "print(my_col[0])"
   ]
  },
  {
   "cell_type": "markdown",
   "id": "74516cf3-533f-44bf-9725-3432e8dda033",
   "metadata": {},
   "source": [
    "### Creating our own labels\n",
    "With the index argument, you can name your own labels."
   ]
  },
  {
   "cell_type": "code",
   "execution_count": null,
   "id": "57c52c98-5e0e-453a-b530-b7b36474d4b8",
   "metadata": {},
   "outputs": [],
   "source": [
    "import pandas as pd\n",
    "\n",
    "a = [1, 2, 3, 4, 5]\n",
    "\n",
    "my_col = pd.Series(a, index = [\"a\", \"b\", \"c\", \"d\", \"e\"])\n",
    "\n",
    "print(my_col)"
   ]
  },
  {
   "cell_type": "markdown",
   "id": "b27c62d1-0154-45dc-bd78-8f6cee4fab88",
   "metadata": {},
   "source": [
    "When you have created labels, you can access an item by referring to the label."
   ]
  },
  {
   "cell_type": "code",
   "execution_count": null,
   "id": "cbbbc13a-1948-41de-af04-38ca162b96b8",
   "metadata": {},
   "outputs": [],
   "source": [
    "print(my_col[\"a\"])"
   ]
  },
  {
   "cell_type": "markdown",
   "id": "4f5725e2-b327-4a7d-a021-46f94195600b",
   "metadata": {},
   "source": [
    "### Key/Value Objects as Series\n",
    "\n",
    "You can also use a key/value object, like a dictionary, when creating a Series."
   ]
  },
  {
   "cell_type": "code",
   "execution_count": null,
   "id": "5de93f17-6c26-4cc8-88c2-d1762c809e23",
   "metadata": {},
   "outputs": [],
   "source": [
    "import pandas as pd\n",
    "\n",
    "calories = {\"day1\": 420, \"day2\": 380, \"day3\": 390}\n",
    "\n",
    "my_calories = pd.Series(calories)\n",
    "\n",
    "print(my_calories)"
   ]
  },
  {
   "cell_type": "code",
   "execution_count": null,
   "id": "82f95250-0e40-4ffb-9af9-91cf80e39ae0",
   "metadata": {},
   "outputs": [],
   "source": [
    "# Create a Series using only data from \"day1\" and \"day2\":\n",
    "my_calories = pd.Series(calories, index = [\"day1\", \"day2\"])\n",
    "\n",
    "print(my_calories)"
   ]
  },
  {
   "cell_type": "markdown",
   "id": "2939e45f-7759-4351-b8c8-859adc2a60b1",
   "metadata": {},
   "source": [
    "### DataFrames\n",
    "\n",
    "A Pandas DataFrame is a 2 dimensional data structure, like a 2 dimensional array, or a table with rows and columns.\n",
    "\n",
    "Series is like a column, a DataFrame is the whole table."
   ]
  },
  {
   "cell_type": "code",
   "execution_count": null,
   "id": "25e92455-3ffd-4194-9341-554a842be25a",
   "metadata": {},
   "outputs": [],
   "source": [
    "import pandas as pd\n",
    "\n",
    "data = {\n",
    "  \"calories\": [420, 380, 390],\n",
    "  \"duration\": [50, 40, 45]\n",
    "}\n",
    "\n",
    "df = pd.DataFrame(data)\n",
    "\n",
    "print(df)"
   ]
  },
  {
   "cell_type": "markdown",
   "id": "a6ea8e7d-eca5-4b2b-bfc2-ed52f320f69d",
   "metadata": {},
   "source": [
    "### Locate Row\n",
    "As you can see from the result above, the DataFrame is like a table with rows and columns.\n",
    "\n",
    "Pandas use the loc attribute to return one or more specified row(s)"
   ]
  },
  {
   "cell_type": "code",
   "execution_count": null,
   "id": "0500b9c0-03ed-4a6b-a6cd-438a692824e1",
   "metadata": {},
   "outputs": [],
   "source": [
    "#refer to the row index:\n",
    "print(df.loc[0])"
   ]
  },
  {
   "cell_type": "code",
   "execution_count": null,
   "id": "d28d8575-f7a6-40a7-bd09-53afb58e8559",
   "metadata": {},
   "outputs": [],
   "source": [
    "# NOTE: .loc[index1] returns a series object as output\n",
    "print(type(df.loc[0]))"
   ]
  },
  {
   "cell_type": "code",
   "execution_count": null,
   "id": "df3b0ac5-5421-4ad2-bed4-73d85c693927",
   "metadata": {},
   "outputs": [],
   "source": [
    "# To get more than 1 pandas locations/rows, use:\n",
    "print(df.loc[[0]])\n",
    "# print(df.loc[[0, 1]])"
   ]
  },
  {
   "cell_type": "code",
   "execution_count": null,
   "id": "747cd424-d675-4fe3-9396-539bdf5318e7",
   "metadata": {},
   "outputs": [],
   "source": [
    "# NOTE: .loc[[index1, index2, .., indexN]] returns a dataframe object as output\n",
    "print(type(df.loc[[0]]))\n",
    "# print(type(df.loc[[0, 1]]))"
   ]
  },
  {
   "cell_type": "markdown",
   "id": "2f7c88c9-5796-44ea-a8be-f8c1cf13baa7",
   "metadata": {},
   "source": [
    "**IMPORTANT:** Notice the difference between .loc[0] and .loc[[0, 1]]"
   ]
  },
  {
   "cell_type": "markdown",
   "id": "97df3ce1-5983-4ee4-9a92-6807a12c9909",
   "metadata": {},
   "source": [
    "### Named Indexes\n",
    "**index** argumemnt could be used to give user defined indexes to dataframes\n",
    "\n",
    "A Pandas index is a (kind of) list of hashable elements, where the position(s) of elements can be found quickly."
   ]
  },
  {
   "cell_type": "code",
   "execution_count": null,
   "id": "90591473-feac-4115-a58e-56331807968e",
   "metadata": {},
   "outputs": [],
   "source": [
    "import pandas as pd\n",
    "\n",
    "data = {\n",
    "  \"calories\": [420, 380, 390],\n",
    "  \"duration\": [50, 40, 45]\n",
    "}\n",
    "\n",
    "df = pd.DataFrame(data)\n",
    "df_index = pd.DataFrame(data, index = [\"day1\", \"day2\", \"day3\"])\n",
    "\n",
    "print(df)\n",
    "print()\n",
    "print(df_index)"
   ]
  },
  {
   "cell_type": "code",
   "execution_count": null,
   "id": "b7839e91-4792-43b4-b0f3-6b64a9c909d9",
   "metadata": {},
   "outputs": [],
   "source": [
    "#refer to the named index:\n",
    "print(df_index.loc[\"day2\"])"
   ]
  },
  {
   "cell_type": "markdown",
   "id": "d2427dbe-524d-4587-8f9f-adc9e8d22ecf",
   "metadata": {},
   "source": [
    "### DataFrame Info\n",
    "**.info** method of pandas dataFrames is used to get the basic information about data. Eg: Column name, Non-Null count, DataType of column, etc.\n",
    "\n",
    "This method is similar to DESC command in DataBase tables"
   ]
  },
  {
   "cell_type": "code",
   "execution_count": null,
   "id": "2e01438d-75df-41c7-ac16-930bee48e446",
   "metadata": {},
   "outputs": [],
   "source": [
    "df.info()"
   ]
  },
  {
   "cell_type": "markdown",
   "id": "d76884dc-b199-41ac-9efc-c7fe57fb9366",
   "metadata": {},
   "source": [
    ".info method provides us information such as:\n",
    "- Number of rows\n",
    "- Number of columns\n",
    "- Column name and data-type\n",
    "- Number of non-null elements in each column\n",
    "- Memory usage by dataframe"
   ]
  },
  {
   "cell_type": "markdown",
   "id": "e0bff403-bace-4951-b705-f715c8f4cbc9",
   "metadata": {},
   "source": [
    "## Reading CSV files into pandas\n",
    "We can read csv files into pandas using .read_csv() function"
   ]
  },
  {
   "cell_type": "code",
   "execution_count": null,
   "id": "a123deb1-80fe-450b-ac33-7c0d28af915f",
   "metadata": {},
   "outputs": [],
   "source": [
    "import pandas as pd\n",
    "\n",
    "df = pd.read_csv(\"attendance_data.csv\")\n",
    "\n",
    "print(df)"
   ]
  },
  {
   "cell_type": "markdown",
   "id": "66bfdb08-cf19-4b87-85c6-f829c145487d",
   "metadata": {},
   "source": [
    "### Common problems with data\n",
    "Clean data is critial for any model training, and as you might have observed above data is not clean:\n",
    "- It has NaN (empty) values in rows: 2, 3, 4, 6, 8\n",
    "- In row number 5 data for \"Date\" column is in wrong format\n",
    "- In row number 6 data for \"Date\" column is missing\n",
    "- In row 9 the data is wrong as \"Check In\" and \"Check Out\" time are available still \"Present\" is marked as false (this is logically incorrect)\n",
    "- Row 0 and 1 are duplicate"
   ]
  },
  {
   "cell_type": "markdown",
   "id": "7d5574db-9c09-423c-b61c-db8b96027b2e",
   "metadata": {},
   "source": [
    "# Data Cleaning using Pandas\n",
    "Data cleaning means fixing bad data in your data set.\n",
    "\n",
    "Bad data could be:\n",
    "\n",
    "- Empty cells\n",
    "- Data in wrong format\n",
    "- Wrong data\n",
    "- Duplicates"
   ]
  },
  {
   "cell_type": "markdown",
   "id": "fb6829e9-1aaf-4be2-be68-fa076d67a0af",
   "metadata": {},
   "source": [
    "## Empty Cells\n",
    "Empty cells are cells with no value - in pandas these are represented by \"NaN\".\n",
    "Majorly there are 3 ways to deal with empty cells:\n",
    "- Remove rows with empty cells\n",
    "- Repalce empty values\n",
    "- Replace empty values (for specific columns)"
   ]
  },
  {
   "cell_type": "markdown",
   "id": "cec84c71-3128-4ff9-9ace-44fb6a7843a0",
   "metadata": {},
   "source": [
    "### Remove rows with empty cells\n",
    "This is probably the simplest approach of dealing with empty cells"
   ]
  },
  {
   "cell_type": "code",
   "execution_count": null,
   "id": "89c063f0-878a-4b43-8cdb-175831447b0d",
   "metadata": {},
   "outputs": [],
   "source": [
    "import pandas as pd\n",
    "\n",
    "df = pd.read_csv(\"attendance_data.csv\")\n",
    "\n",
    "new_df = df.dropna()\n",
    "\n",
    "print(new_df)\n",
    "#print(df)"
   ]
  },
  {
   "cell_type": "markdown",
   "id": "e960fcbe-194f-45a5-9178-60a07a019ddb",
   "metadata": {},
   "source": [
    "As you can see all the rows with any column value as NaN is dropped from the new dataframe\n",
    "\n",
    "**Note:** The original dataframe is not altered\n",
    "\n",
    "To later the original datafrmae use inplace = True"
   ]
  },
  {
   "cell_type": "code",
   "execution_count": null,
   "id": "8f130115-3ff8-4f5f-b96b-f9c4dfb14078",
   "metadata": {},
   "outputs": [],
   "source": [
    "df.dropna(inplace=True)\n",
    "print(df)"
   ]
  },
  {
   "cell_type": "markdown",
   "id": "e9caab72-0571-4c63-bfff-3e7ef2c8297b",
   "metadata": {},
   "source": [
    "### Repalce empty values\n",
    "As the name suggests here we fill the empty values with a default value"
   ]
  },
  {
   "cell_type": "code",
   "execution_count": null,
   "id": "56324116-f469-4559-a328-d56ea26ed197",
   "metadata": {},
   "outputs": [],
   "source": [
    "import pandas as pd\n",
    "\n",
    "df = pd.read_csv(\"attendance_data.csv\")\n",
    "\n",
    "df.fillna(True, inplace = True)\n",
    "\n",
    "print(df)"
   ]
  },
  {
   "cell_type": "markdown",
   "id": "114b3151-0233-4140-a9c4-dcf851954015",
   "metadata": {},
   "source": [
    "As you can see this solution works, but it un-intelligently replaces even the NaN value in the Date column with boolean \"True\""
   ]
  },
  {
   "cell_type": "markdown",
   "id": "7b2c981e-9ed8-44f5-90ce-f9d346a9590a",
   "metadata": {},
   "source": [
    "### Replace empty values (for specific columns)\n",
    "A better way to fill the NaN values is to do it column-wise"
   ]
  },
  {
   "cell_type": "code",
   "execution_count": null,
   "id": "d3df16e2-9a7f-49a2-8bdc-130155a437c0",
   "metadata": {},
   "outputs": [],
   "source": [
    "import pandas as pd\n",
    "\n",
    "df = pd.read_csv(\"attendance_data.csv\")\n",
    "\n",
    "print(\"BEFORE\")\n",
    "print(df)\n",
    "\n",
    "df[\"Date\"].fillna(\"2020/12/02\", inplace = True)\n",
    "df[\"Check In\"].fillna(True, inplace = True)\n",
    "\n",
    "print()\n",
    "print(\"AFTER\")\n",
    "print(df)"
   ]
  },
  {
   "cell_type": "markdown",
   "id": "8da92bb0-8dff-48d9-a37a-4f0bddbf468d",
   "metadata": {},
   "source": [
    "Now the values in column \"Date\" and \"Check In\" are of valid data type\n",
    "\n",
    "**NOTE:** There are other ways to replace empty values such as Mean, Median, or Mode, but we will not cover them in this series"
   ]
  },
  {
   "cell_type": "markdown",
   "id": "2c3057b1-5033-48e0-99e2-d41ee0159552",
   "metadata": {},
   "source": [
    "## Data in wrong format\n",
    "\n",
    "Cells with incorrect datatype make it difficult to use the data. To fix incorrect datatype (format) we have two approaches:\n",
    "- Convert all elements of a column to same format\n",
    "- Drop incorrect data rows"
   ]
  },
  {
   "cell_type": "markdown",
   "id": "00421cb9-f185-4037-9ca1-8930ac0599c1",
   "metadata": {},
   "source": [
    "### Convert all the cells to same format\n",
    "\n",
    "In this strategy we force all the elements of a column to follow same datatype, example, datetime"
   ]
  },
  {
   "cell_type": "code",
   "execution_count": null,
   "id": "7a4292d4-1d7f-4b09-9647-e24495dfcf97",
   "metadata": {},
   "outputs": [],
   "source": [
    "import pandas as pd\n",
    "\n",
    "df = pd.read_csv(\"attendance_data.csv\")\n",
    "\n",
    "df['Date'] = pd.to_datetime(df['Date'], format=\"mixed\") # here format=\"mixed\" helps pandas identify 20201202 element\n",
    "\n",
    "print(df)"
   ]
  },
  {
   "cell_type": "markdown",
   "id": "a3e283d2-8c29-477e-a4f2-b99a47f30f69",
   "metadata": {},
   "source": [
    "As you can see on row 6 which was NaN you got NaT (Not a Time) value. This is a type of NaN related to time.\n",
    "\n",
    "One way of dealing with NaT will be to remove the entire row."
   ]
  },
  {
   "cell_type": "code",
   "execution_count": null,
   "id": "17a53d23-1180-4430-a36e-24c46be775e8",
   "metadata": {},
   "outputs": [],
   "source": [
    "import pandas as pd\n",
    "\n",
    "df = pd.read_csv(\"attendance_data.csv\")\n",
    "\n",
    "df['Date'] = pd.to_datetime(df['Date'], format=\"mixed\")\n",
    "df.dropna(subset=[\"Date\"], inplace=True)\n",
    "\n",
    "print(df)"
   ]
  },
  {
   "cell_type": "markdown",
   "id": "a9c70b78-ac0e-4cf0-b1d2-fa32052e0675",
   "metadata": {},
   "source": [
    "Row 6 with value NaT is dropped"
   ]
  },
  {
   "cell_type": "markdown",
   "id": "f704c68b-ebf9-49b2-8bfa-a7cdf398e607",
   "metadata": {},
   "source": [
    "## Wrong Data\n",
    "\n",
    "Wrong data means the data is available, but it is logically incorrect.\n",
    "\n",
    "Example: In row 9 the data is wrong as \"Check In\" and \"Check Out\" time are available still \"Present\" is marked as false (this is logically incorrect)\n",
    "\n",
    "There are two ways to dealing with wrong data:\n",
    "- Replacing wrong values\n",
    "- Removing wrong value rows"
   ]
  },
  {
   "cell_type": "markdown",
   "id": "f4c75e12-24d3-4a4b-9eed-8497b016911c",
   "metadata": {},
   "source": [
    "### Replacing wrong values\n",
    "\n",
    "In this strategy we replace the wrong values individually for fixing the data."
   ]
  },
  {
   "cell_type": "code",
   "execution_count": null,
   "id": "e2025d35-2fe4-4538-91e2-fc073b2e1f5a",
   "metadata": {},
   "outputs": [],
   "source": [
    "import pandas as pd\n",
    "\n",
    "df = pd.read_csv(\"attendance_data.csv\")\n",
    "\n",
    "df.loc[9, \"Present\"] = True\n",
    "\n",
    "print(df)"
   ]
  },
  {
   "cell_type": "markdown",
   "id": "229faf48-23b6-4a3b-88dd-3d9a7684128a",
   "metadata": {},
   "source": [
    "As you can observe the data in row 9 is fixed. Rishabh is marked as present"
   ]
  },
  {
   "cell_type": "markdown",
   "id": "e780f12f-07d5-445f-89f9-3cc0ddc4aca6",
   "metadata": {},
   "source": [
    "### Removing wrong value rows\n",
    "\n",
    "As we have seen earlier in this strategy we remove the wrong data based on some conditions."
   ]
  },
  {
   "cell_type": "code",
   "execution_count": null,
   "id": "aa4b480f-e69e-4dbf-a118-6d1c3161513b",
   "metadata": {},
   "outputs": [],
   "source": [
    "import pandas as pd\n",
    "\n",
    "df = pd.read_csv(\"attendance_data.csv\")\n",
    "\n",
    "for i in df.index:\n",
    "    if df.loc[i, \"Check In\"] and df.loc[i, \"Check Out\"] and df.loc[i, \"Present\"] == False:\n",
    "        df.drop(i, inplace=True)\n",
    "\n",
    "print(df)"
   ]
  },
  {
   "cell_type": "markdown",
   "id": "12d9a5e8-7cb7-46af-9fbc-56e05a081769",
   "metadata": {},
   "source": [
    "We have dropped row 9 as the data was incorrect"
   ]
  },
  {
   "cell_type": "markdown",
   "id": "774d96c0-e068-49dc-99c6-fc4521b21f35",
   "metadata": {},
   "source": [
    "## Dealing with Duplicates\n",
    "\n",
    "Druplicate rows are rows which appear more than once and have exactly same data.\n",
    "\n",
    "In our csv row 0 and 1 have duplicate data.\n",
    "\n",
    "To find duplicates in a dataframe, we can use pandas .duplicated() method"
   ]
  },
  {
   "cell_type": "code",
   "execution_count": null,
   "id": "2810e19b-99e4-415f-8188-2f3e6bd59032",
   "metadata": {},
   "outputs": [],
   "source": [
    "print(df.duplicated())"
   ]
  },
  {
   "cell_type": "markdown",
   "id": "50a59dc7-8ede-4b14-8013-ec2ae5d91b76",
   "metadata": {},
   "source": [
    "From the output of duplicated method it is clear that row 1 is a duplicate of a row that appeared before it.\n",
    "\n",
    "To drop duplicates we can use drop_duplicates() method"
   ]
  },
  {
   "cell_type": "code",
   "execution_count": null,
   "id": "f7227ca5-f0ac-4d24-abc1-dc1e16f23a12",
   "metadata": {},
   "outputs": [],
   "source": [
    "import pandas as pd\n",
    "\n",
    "df = pd.read_csv(\"attendance_data.csv\")\n",
    "\n",
    "df.drop_duplicates(inplace=True)\n",
    "\n",
    "print(df)"
   ]
  },
  {
   "cell_type": "markdown",
   "id": "2cbb0e16-4acc-49a4-ad07-da5df77bef4b",
   "metadata": {},
   "source": [
    "Using this method row 1 which was a duplciate of row 0 is dropped"
   ]
  },
  {
   "cell_type": "markdown",
   "id": "990f01b5-b24f-4a7d-99b5-b6575482c1fc",
   "metadata": {},
   "source": [
    "# Plotting Data with Pandas\n",
    "\n",
    "Pandas is extremely helpful in visualising the data using pandas plot function."
   ]
  },
  {
   "cell_type": "markdown",
   "id": "8137ae2e-6741-484f-be93-cee200d367d3",
   "metadata": {},
   "source": [
    "### Matplotlib\n",
    "\n",
    "For plotting a graph using pandas we have to use matplotlib.\n",
    "\n",
    "This libraby can be installed using pip: **pip install matplotlib**"
   ]
  },
  {
   "cell_type": "code",
   "execution_count": null,
   "id": "ac6a9893-cb51-4e2b-8a0e-89a8883d0f11",
   "metadata": {},
   "outputs": [],
   "source": [
    "import pandas as pd\n",
    "\n",
    "df = pd.read_csv(\"stepathon_data.csv\")\n",
    "\n",
    "df"
   ]
  },
  {
   "cell_type": "code",
   "execution_count": null,
   "id": "687a0b4e-6d07-4a81-ba82-1acf6e7e2007",
   "metadata": {},
   "outputs": [],
   "source": [
    "df.plot()"
   ]
  },
  {
   "cell_type": "markdown",
   "id": "514ec247-89e0-4f91-897e-992fa2a09146",
   "metadata": {},
   "source": [
    "As you can observe above graph is not informative and it is plotted using index as the x-axis. To make the graph easier to understand we can select the axeses we need for plotting the graph."
   ]
  },
  {
   "cell_type": "code",
   "execution_count": null,
   "id": "4700d625-51a8-4386-8ce9-550d6f3556f1",
   "metadata": {},
   "outputs": [],
   "source": [
    "import pandas as pd\n",
    "\n",
    "df = pd.read_csv(\"stepathon_data.csv\")\n",
    "\n",
    "print(df)\n",
    "\n",
    "df.plot(x=\"Date\", y=\"Step Count\")"
   ]
  },
  {
   "cell_type": "markdown",
   "id": "8527e88f-3d44-4852-9c6e-a296272ade3d",
   "metadata": {},
   "source": [
    "It is better than the default graph. However, the x axis is not groupping the step-counts by dates. \n",
    "\n",
    "The achieve this we can use a keyword: kind=\"scatter\""
   ]
  },
  {
   "cell_type": "code",
   "execution_count": null,
   "id": "9f10813a-ffe6-4fab-9f7e-c82324435c6c",
   "metadata": {},
   "outputs": [],
   "source": [
    "import pandas as pd\n",
    "\n",
    "df = pd.read_csv(\"stepathon_data.csv\")\n",
    "\n",
    "print(df)\n",
    "\n",
    "df.plot(kind=\"scatter\", x=\"Date\", y=\"Step Count\")"
   ]
  },
  {
   "cell_type": "markdown",
   "id": "e2bea367-97b7-4f8c-b12d-19b4a8cfe930",
   "metadata": {},
   "source": [
    "The scattered graph gives us information about individual employee's step count on a particular date.\n",
    "\n",
    "This is good, but it does not help us identify the step count progress for each employee, to achieve this we can group our data by \"Employee Name\""
   ]
  },
  {
   "cell_type": "markdown",
   "id": "d132869a-4062-45cf-8b08-77e87b42ff4e",
   "metadata": {},
   "source": [
    "### Using group_by\n",
    "\n",
    "Using group_by() method with pandas dataframe we can group data by a subset of columns"
   ]
  },
  {
   "cell_type": "code",
   "execution_count": null,
   "id": "e145667a-9884-44a5-8012-03ef516d97a8",
   "metadata": {},
   "outputs": [],
   "source": [
    "import pandas as pd\n",
    "\n",
    "df = pd.read_csv(\"stepathon_data.csv\")\n",
    "\n",
    "df.set_index(\"Date\", inplace=True)\n",
    "\n",
    "fig, ax = plt.subplots(figsize=(8,6))\n",
    "\n",
    "df.groupby(\"Employee Name\")[\"Step Count\"].plot(legend=True, ax=ax)"
   ]
  },
  {
   "cell_type": "markdown",
   "id": "ceed2985-55b8-4546-b6e7-2a7c65cce63b",
   "metadata": {},
   "source": [
    "We can also group_by \"Team Name\", this will allows us to find the performace of each team"
   ]
  },
  {
   "cell_type": "code",
   "execution_count": null,
   "id": "4ca7e523-d8a3-469d-9a74-c064e2dd49b5",
   "metadata": {},
   "outputs": [],
   "source": [
    "import matplotlib.pyplot as plt\n",
    "import pandas as pd\n",
    "\n",
    "df = pd.read_csv(\"stepathon_data.csv\")\n",
    "\n",
    "df.set_index(\"Date\", inplace=True)\n",
    "\n",
    "fig, ax = plt.subplots(figsize=(8,6))\n",
    "\n",
    "#print(df.groupby([\"Team Name\", \"Date\"])[\"Step Count\"].sum())\n",
    "# for x in [\"Devs\", \"Leads\", \"Mgrs\"]:\n",
    "#     _df = df.groupby(['Team Name', 'Date']).agg({'Step Count': 'sum'}).loc[x]\n",
    "#     _df.rename(columns={\"Step Count\": x}, inplace=True)\n",
    "#     print(_df)\n",
    "\n",
    "for label in [\"Devs\", \"Leads\", \"Mgrs\"]:\n",
    "    _df = df.groupby(['Team Name', 'Date']).agg({'Step Count': 'sum'}).loc[label]\n",
    "    _df.rename(columns={\"Step Count\": label}, inplace=True)\n",
    "    _df.plot(ax=ax, label=label)\n",
    "    \n",
    "plt.show()"
   ]
  },
  {
   "cell_type": "markdown",
   "id": "d97cda02",
   "metadata": {},
   "source": [
    "# FastAPI\n",
    "\n",
    "FastAPI is a modern, fast (high-performance), web framework for building APIs with Python. It is based on ASGI (Asynchronous Server Gateway Interface) and provides high performance with extremely low overhead.\n",
    "\n",
    "Latest version of FastAPI can be installed using pip:\n",
    "\n",
    "pip install fastapi"
   ]
  },
  {
   "cell_type": "markdown",
   "id": "8e721e5e-d2d7-44d6-9958-d12129c0b9e3",
   "metadata": {},
   "source": [
    "## Create and Run first FastAPI application\n",
    "\n",
    "To create first FastAPI application create a app object using FastAPI"
   ]
  },
  {
   "cell_type": "code",
   "execution_count": 1,
   "id": "f9abf4b8-589a-49d3-bd79-ae16417dfc1c",
   "metadata": {},
   "outputs": [],
   "source": [
    "from fastapi import FastAPI\n",
    "app = FastAPI()"
   ]
  },
  {
   "cell_type": "markdown",
   "id": "e90269a8-9014-467b-9109-03ac6236e620",
   "metadata": {},
   "source": [
    "Now you can create routes using this app"
   ]
  },
  {
   "cell_type": "code",
   "execution_count": null,
   "id": "449968d7-6438-4c2e-ad7a-9baf57061bf5",
   "metadata": {},
   "outputs": [],
   "source": [
    "@app.get(\"/\")\n",
    "def hello_company():\n",
    "    return {\"Hello\": \"Company\"}\n",
    "\n",
    "@app.get(\"/company/{compant_name}\")\n",
    "def compant_name(company_name: str):\n",
    "    return {\"compant_name\": company_name}"
   ]
  },
  {
   "cell_type": "markdown",
   "id": "3b14a479-d0b1-4f51-a69b-813655ba8377",
   "metadata": {},
   "source": [
    "## FastAPI Default Docs\n",
    "FastAPI comes with automatic interactive API documentation. This is provided by SwaggerUI.\n",
    "\n",
    "To access these default docs you can goto /docs endpoint. \n",
    "\n",
    "On your local server this is: http://127.0.0.1:8000/docs\n"
   ]
  },
  {
   "cell_type": "code",
   "execution_count": null,
   "id": "6550898e-befa-483d-b3b4-cfe64776aaf8",
   "metadata": {},
   "outputs": [],
   "source": []
  }
 ],
 "metadata": {
  "kernelspec": {
   "display_name": "Python 3 (ipykernel)",
   "language": "python",
   "name": "python3"
  },
  "language_info": {
   "codemirror_mode": {
    "name": "ipython",
    "version": 3
   },
   "file_extension": ".py",
   "mimetype": "text/x-python",
   "name": "python",
   "nbconvert_exporter": "python",
   "pygments_lexer": "ipython3",
   "version": "3.11.9"
  }
 },
 "nbformat": 4,
 "nbformat_minor": 5
}
