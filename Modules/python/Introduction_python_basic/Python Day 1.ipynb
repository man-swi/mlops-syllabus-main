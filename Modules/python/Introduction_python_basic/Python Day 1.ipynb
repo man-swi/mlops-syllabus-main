{
 "cells": [
  {
   "cell_type": "markdown",
   "id": "5c69f1cf-141f-4e21-bb54-bce85b8a87ae",
   "metadata": {},
   "source": [
    "# Day - 1\n",
    "## Welcome!"
   ]
  },
  {
   "cell_type": "markdown",
   "id": "920e25ba",
   "metadata": {},
   "source": [
    "# Why Python?"
   ]
  },
  {
   "cell_type": "markdown",
   "id": "d7505b8d",
   "metadata": {},
   "source": [
    "1. Open source and free\n",
    "2. Easy syntax, high level language and more human readable\n",
    "3. Supports various platforms (Cross-platform)\n",
    "4. Large standard library and Huge ecosystem of high quality libraries\n",
    "5. Supports both OOPS and functional programming"
   ]
  },
  {
   "cell_type": "markdown",
   "id": "1554cce3",
   "metadata": {},
   "source": [
    "# Introduction to PIP"
   ]
  },
  {
   "cell_type": "markdown",
   "id": "7797a94f",
   "metadata": {},
   "source": [
    "\"pip\" is as package management system for python. \n",
    " It is used to install, manage, and uninstall third-party libraries and modules that are not part of Python's standard library."
   ]
  },
  {
   "cell_type": "markdown",
   "id": "9efedfa8",
   "metadata": {},
   "source": [
    "### Important Commands\n",
    "\n",
    "#### install\n",
    "\n",
    "pip install < package_name >\n",
    "\n",
    "pip install < package name >==< package version >\n",
    "\n"
   ]
  },
  {
   "cell_type": "markdown",
   "id": "504b191e",
   "metadata": {},
   "source": [
    "### Uninstall\n",
    "\n",
    "pip uninstall < package_name >"
   ]
  },
  {
   "cell_type": "markdown",
   "id": "aea2cbd6",
   "metadata": {},
   "source": [
    "### Verify package is present:\n",
    "\n",
    "pip freeze\n",
    "\n",
    "OR\n",
    "\n",
    "pip list\n",
    "\n",
    "##### windows\n",
    "\n",
    "pip freeze | findstr < package_name >\n",
    "\n",
    "pip freeze | findstr numpy\n",
    "\n",
    "##### Mac\n",
    "\n",
    "pip freeze | grep < package_name >"
   ]
  },
  {
   "cell_type": "code",
   "execution_count": null,
   "id": "700326f8",
   "metadata": {},
   "outputs": [],
   "source": [
    "!pip freeze | findstr numpy"
   ]
  },
  {
   "cell_type": "markdown",
   "id": "a2e59a08",
   "metadata": {},
   "source": [
    "# Hello world"
   ]
  },
  {
   "cell_type": "code",
   "execution_count": null,
   "id": "4549a6e4",
   "metadata": {},
   "outputs": [],
   "source": [
    "def hello_world():\n",
    "    \"\"\"My first program in python\"\"\"\n",
    "    print(\"Hello, world!\")\n",
    "hello_world()"
   ]
  },
  {
   "cell_type": "markdown",
   "id": "bc8f0586",
   "metadata": {},
   "source": [
    "### Comments in python\n",
    "\n",
    "1. **Single Line**: Use single # followed by comment sting\n",
    "2. **Mutli Line** : Enclose your mutiline comment with  \" or ' "
   ]
  },
  {
   "cell_type": "code",
   "execution_count": null,
   "id": "5fc443f6",
   "metadata": {},
   "outputs": [],
   "source": [
    "# My first Python program\n",
    "def hello_world():\n",
    "    \"\"\"My first program in python\"\"\"\n",
    "    print(\"Hello, world!\")\n",
    "hello_world()"
   ]
  },
  {
   "cell_type": "markdown",
   "id": "6360ad18-2609-4349-b9b2-ad6ea9525e10",
   "metadata": {},
   "source": [
    "### Command Line Arguments\n",
    "\n",
    "Command line arguments are ways to pass data to a funtion at run time"
   ]
  },
  {
   "cell_type": "code",
   "execution_count": null,
   "id": "d0da99ec-cfaf-4b1f-858b-921f46582eeb",
   "metadata": {},
   "outputs": [],
   "source": [
    "import sys\n",
    "def print_name(name):\n",
    "    print(name)\n",
    "\n",
    "if __name__ == \"__main__\":\n",
    "    print(sys.argv)\n",
    "    print_name(sys.argv[1])"
   ]
  },
  {
   "cell_type": "markdown",
   "id": "b92a1a0e",
   "metadata": {},
   "source": [
    "# Variables and Data Type"
   ]
  },
  {
   "cell_type": "markdown",
   "id": "6063c4d8",
   "metadata": {},
   "source": [
    "### Variable assignment"
   ]
  },
  {
   "cell_type": "code",
   "execution_count": null,
   "id": "acbff893",
   "metadata": {},
   "outputs": [],
   "source": [
    "# single assignment\n",
    "a = 5\n",
    "b = 6\n",
    "\n",
    "# Multiple assignments\n",
    "x, y  = 1 , 3\n",
    "print (a, b, x, y)\n",
    "\n",
    "x, y, z= 5, 3.2, \"hello learner\"\n",
    "print (x, y, z)"
   ]
  },
  {
   "cell_type": "code",
   "execution_count": null,
   "id": "8668bf9d",
   "metadata": {},
   "outputs": [],
   "source": [
    "# Type-specific assignment\n",
    "a = int(5)\n",
    "b = int(5)\n",
    "c = a + b\n",
    "\n",
    "print(c)"
   ]
  },
  {
   "cell_type": "markdown",
   "id": "b0aba9ee",
   "metadata": {},
   "source": [
    "### Data types"
   ]
  },
  {
   "cell_type": "markdown",
   "id": "843ac4e0-7b40-4f19-8507-e46e113aad88",
   "metadata": {},
   "source": [
    "#### Mutable and Immutable Data Types:"
   ]
  },
  {
   "attachments": {
    "a0a2e428-966a-4425-ac94-4ba7500228e6.jpg": {
     "image/jpeg": "[encoded data removed]"
    }
   },
   "cell_type": "markdown",
   "id": "a1da3e66-cf99-4bfa-8488-2d42cd16eade",
   "metadata": {},
   "source": [
    "![mutable_n_immutable.jpg](attachment:a0a2e428-966a-4425-ac94-4ba7500228e6.jpg)"
   ]
  },
  {
   "cell_type": "code",
   "execution_count": null,
   "id": "c613fd91-f886-4d67-be8e-cdf5fe74d1b6",
   "metadata": {},
   "outputs": [],
   "source": [
    "# To get the address of object\n",
    "a = 10\n",
    "print(\"a = \", a)\n",
    "print(\"id(a) = \", id(a))"
   ]
  },
  {
   "cell_type": "markdown",
   "id": "78a9e088",
   "metadata": {},
   "source": [
    "#### Numeric types:"
   ]
  },
  {
   "cell_type": "code",
   "execution_count": null,
   "id": "893ca8a7",
   "metadata": {},
   "outputs": [],
   "source": [
    "a = 5\n",
    "b = 2.0\n",
    "c = 1+2j\n",
    "print (f\"Type of a is {type(a)}, Type of b is {type(b)} and Type of c is {type(c)}\")\n",
    "str1 = \"{},{},{}\".format(a,b,c)\n",
    "print (str1)"
   ]
  },
  {
   "cell_type": "code",
   "execution_count": null,
   "id": "99fef248-5da7-4a39-974d-c9adba7bbd8e",
   "metadata": {},
   "outputs": [],
   "source": [
    "# Address of int \"a\" changes on manipulating the value of \"a\"\n",
    "print(\"id(a) =\", id(a))\n",
    "a = a + 1\n",
    "print(\"id(a) =\", id(a))"
   ]
  },
  {
   "cell_type": "markdown",
   "id": "461f22f3",
   "metadata": {},
   "source": [
    "#### Sequences:\n",
    "A sequence is an ordered collection of elements of same or different data types. In Python, we have three sequence types: strings (str), lists (list), and tuples (tuple)"
   ]
  },
  {
   "cell_type": "code",
   "execution_count": null,
   "id": "f3f19ad1",
   "metadata": {},
   "outputs": [],
   "source": [
    "str1 = \"Welcome to python training\" # immutable\n",
    "list1 = [1,2,3]  # mutable\n",
    "tuple1 = (1,2,3) # immutable\n",
    "print (f\"Type of str1 is {type(str1)}, Type of list1 is {type(list1)} and Type of tuple1 is {type(tuple1)}\")"
   ]
  },
  {
   "cell_type": "markdown",
   "id": "2a4a4217-bb29-46ef-b5ac-81282ce8b9d1",
   "metadata": {},
   "source": [
    "#### String:"
   ]
  },
  {
   "cell_type": "code",
   "execution_count": null,
   "id": "7b6b404d-3e16-480b-b8f9-fe5fdf33dc1c",
   "metadata": {},
   "outputs": [],
   "source": [
    "student1 = \"Yogesh\"\n",
    "student2 = \"Rishabh\"\n",
    "student3 = \"Chetan\"\n",
    "print(f\"Student-1 is: {student1}\") # single line format strings\n",
    "# Multiline format strings\n",
    "# print(f\"\"\"Student-1 is: {student1}\n",
    "# Student-2 is: {student2}\n",
    "# Student-3 is: {student3}\"\"\")"
   ]
  },
  {
   "cell_type": "markdown",
   "id": "28b581b9",
   "metadata": {},
   "source": [
    "#### Set:\n",
    "\n",
    "Set is unordered collection of unique objects."
   ]
  },
  {
   "cell_type": "code",
   "execution_count": null,
   "id": "464aee3b",
   "metadata": {},
   "outputs": [],
   "source": [
    "set1 = {1,2,3,4}\n",
    "print(f\"Type of set1 is {type(set1)}\")\n",
    "\n",
    "set2 = {1,1,2,3,4}\n",
    "print (f\"set2 is {(set2)}\")\n",
    "\n",
    "#converting list to set (usually used Remove Duplicates)\n",
    "list1 = [1,2,3,4,1]\n",
    "set1 = set(list1)\n",
    "print (set1)\n",
    "\n",
    "\n",
    "# membership testing\n",
    "my_set = {1, 2, 3, 4, 5}\n",
    "print(2 in my_set)     \n",
    "print(6 in my_set)     \n",
    "\n",
    "# Perform mathematical operations\n",
    "# set1 = {1, 2, 3, 4, 5}\n",
    "# set2 = {4, 5, 6, 7}\n",
    "# print(set1.union(set2))            \n",
    "# print(set1.intersection(set2))    \n",
    "# print(set1.difference(set2)) "
   ]
  },
  {
   "cell_type": "code",
   "execution_count": null,
   "id": "56bcf93e-bb75-4ffe-acb3-57d2e3137a73",
   "metadata": {},
   "outputs": [],
   "source": [
    "# Address of set \"set1\" does not change on manipulating the value of set1\n",
    "set1 = {1,2,3,4}\n",
    "print(\"id(set1) =\", id(set1))\n",
    "set1.add(5)\n",
    "print(\"id(set1) =\", id(set1))"
   ]
  },
  {
   "cell_type": "markdown",
   "id": "8a4de283",
   "metadata": {},
   "source": [
    "#### Map (dictionary):"
   ]
  },
  {
   "cell_type": "code",
   "execution_count": null,
   "id": "d57f06a3",
   "metadata": {},
   "outputs": [],
   "source": [
    "dict1 = {\n",
    "    \"key1\": \"I am value of key1\",\n",
    "    \"key2\": 2,\n",
    "    \"key3\":{\"subdictkey1\":\"value of subdict1\"},\n",
    "    \"key4\":[1,2,3,4]\n",
    "}\n",
    "\n",
    "print(dict1[\"key3\"]['subdictkey1'])"
   ]
  },
  {
   "cell_type": "markdown",
   "id": "bc588cc1",
   "metadata": {},
   "source": [
    "<span style=\"color:red\">Please avoid **Bad habit** of using squre bracket</span>"
   ]
  },
  {
   "cell_type": "code",
   "execution_count": null,
   "id": "6ad87752",
   "metadata": {},
   "outputs": [],
   "source": [
    "print(dict1['key10'])"
   ]
  },
  {
   "cell_type": "code",
   "execution_count": null,
   "id": "07bcf36d",
   "metadata": {},
   "outputs": [],
   "source": [
    "#Good habits\n",
    "print (dict1.get('key3'))\n",
    "print (dict1.get('key10', \"some default\"))"
   ]
  },
  {
   "cell_type": "code",
   "execution_count": null,
   "id": "2d633f11-9636-4f5d-b8a0-86178adc684a",
   "metadata": {},
   "outputs": [],
   "source": [
    "# Address of set \"dict1\" does not change on manipulating the value of dict1\n",
    "dict1 = {\n",
    "    \"key1\": \"I am value of key1\",\n",
    "    \"key2\": 2,\n",
    "    \"key3\":{\"subdictkey1\":\"value of subdict1\"},\n",
    "    \"key4\":[1,2,3,4]\n",
    "}\n",
    "print(\"id(dict1) =\", id(dict1))\n",
    "dict1[\"key1\"] = \"Constant Address\"\n",
    "print(\"id(dict1) =\", id(dict1))"
   ]
  },
  {
   "cell_type": "markdown",
   "id": "282f33be-a7a7-4441-b1c5-c4ee5c6a9ed1",
   "metadata": {},
   "source": [
    "#### None Type:\n",
    "Like all the other data types \"None\" is also a datatype in python. It is important to note that\n",
    "\n",
    "1. None is not the same as 0\n",
    "2. None is not the same as False\n",
    "3. None is not the same as empty string \"\"\n",
    "4. Comparing None to anything other than None will return False"
   ]
  },
  {
   "cell_type": "code",
   "execution_count": null,
   "id": "be150908-3a78-4662-b1e6-ee1e4bbe686f",
   "metadata": {},
   "outputs": [],
   "source": [
    "print(None == 0)\n",
    "print(None == False)\n",
    "print(None == \"\")\n",
    "print(None == None)"
   ]
  },
  {
   "cell_type": "markdown",
   "id": "1f5edecf-b9dd-4794-879d-e886dfdea87e",
   "metadata": {},
   "source": [
    "#### Boolean type:"
   ]
  },
  {
   "cell_type": "code",
   "execution_count": null,
   "id": "13324a42-6dc1-4b97-bc26-1ba514c0a350",
   "metadata": {},
   "outputs": [],
   "source": [
    "# Boolean in python represents two values True or False\n",
    "a = True\n",
    "print(type(a))\n",
    "\n",
    "#default value of boolean\n",
    "# b = bool()\n",
    "# if not b:\n",
    "#     print(\"Value of b is false\")"
   ]
  },
  {
   "cell_type": "markdown",
   "id": "f038d3b9",
   "metadata": {},
   "source": [
    "#### File Types: \n",
    "File types are used to read and write data to permanent storage. In Python, the file type is used to represent file types.\n",
    "A file could be opened in read (r), write (w), create (x), or append (a) mode"
   ]
  },
  {
   "cell_type": "code",
   "execution_count": null,
   "id": "a47314c4-42da-45af-bf1d-23cbc88bca36",
   "metadata": {},
   "outputs": [],
   "source": [
    "\n",
    "def create_file():\n",
    "    with open(\"training_day_1.txt\",\"x\") as my_file:\n",
    "        list1 = [1,3,4]\n",
    "        my_file.write(str(list1))\n",
    "\n",
    "\n",
    "def read_file():\n",
    "    with open(\"training_day_1.txt\", \"r\") as my_file:\n",
    "        print(my_file.read())\n",
    "\n",
    "\n",
    "# if __name__ == \"__main__\":\n",
    "#     create_file() # This will give error if the file already exists\n",
    "#     read_file()\n",
    "\n",
    "create_file() # This will give error if the file already exists\n",
    "read_file()"
   ]
  },
  {
   "cell_type": "markdown",
   "id": "3a26a3a9",
   "metadata": {},
   "source": [
    "### Naming Variables\n",
    "\n",
    "1. Instance variable names should be all lower case\n",
    "2. Words in an instance variable name should be separated by an underscore\n",
    "3. Non-public instance variables should begin with a single underscore\n",
    "4. If an instance name needs to be mangled, two underscores may begin its name (e.g. __init__)"
   ]
  },
  {
   "cell_type": "markdown",
   "id": "ad65cd23",
   "metadata": {},
   "source": [
    "<span style=\"color:red\">In python we have **virtual** access specifier defined using single _ and double __ </span>"
   ]
  },
  {
   "cell_type": "markdown",
   "id": "050fe973",
   "metadata": {},
   "source": [
    "# Operators in Python"
   ]
  },
  {
   "cell_type": "markdown",
   "id": "4f617880",
   "metadata": {},
   "source": [
    "### Arithmetic operators\n",
    "\n",
    "arithmetic operators are used to perform mathematical operations on numeric data types such as integers, floats, and complex numbers.\n",
    "\n",
    "1. Addition (+) \n",
    "2. Subtraction (-)\n",
    "3. Multiplication (*)\n",
    "4. Division (/) \n",
    "5. Floor Division (//) - Rounds the result down to the nearest integer\n",
    "6. Modulus (%) \n",
    "7. Exponentiation (**)"
   ]
  },
  {
   "cell_type": "code",
   "execution_count": null,
   "id": "ccdfb60e",
   "metadata": {},
   "outputs": [],
   "source": [
    "print(3 + 5)\n",
    "print(6 - 9)\n",
    "print(2 * 5)\n",
    "print(13 / 5)\n",
    "print(13 // 5)\n",
    "print(13 % 2)\n",
    "print(2 ** 4)"
   ]
  },
  {
   "cell_type": "markdown",
   "id": "8d7e66d1",
   "metadata": {},
   "source": [
    "### Comparison operators"
   ]
  },
  {
   "cell_type": "markdown",
   "id": "31225bc9",
   "metadata": {},
   "source": [
    "1. Equal to (==) - checks if the two operands are equal to each other.\n",
    "\n",
    "    Example: 5 == 5 returns True, but 5 == 6 returns False.\n",
    "    \n"
   ]
  },
  {
   "cell_type": "markdown",
   "id": "29c70a11",
   "metadata": {},
   "source": [
    "2. Not equal to (!=) - checks if the two operands are not equal to each other.\n",
    "\n",
    "    Example: 5 != 6 returns True, but 5 != 5 returns False.\n",
    "   \n",
    " "
   ]
  },
  {
   "cell_type": "markdown",
   "id": "0fb29099",
   "metadata": {},
   "source": [
    "3. Greater than (>) - checks if the left operand is greater than the right operand.\n",
    "\n",
    "    Example: 6 > 5 returns True, but 5 > 6 returns False.\n",
    "   "
   ]
  },
  {
   "cell_type": "markdown",
   "id": "143730df",
   "metadata": {},
   "source": [
    "4. Less than (<) - checks if the left operand is less than the right operand.\n",
    "\n",
    "    Example: 5 < 6 returns True, but 6 < 5 returns False.\n",
    "   \n",
    "   \n"
   ]
  },
  {
   "cell_type": "markdown",
   "id": "6022eac7",
   "metadata": {},
   "source": [
    "5. Greater than or equal to (>=) - checks if the left operand is greater than or equal to the right operand.\n",
    "\n",
    "    Example: 6 >= 5 returns True, but 5 >= 6 returns False.\n",
    "    \n",
    "   \n"
   ]
  },
  {
   "cell_type": "markdown",
   "id": "3f264af0",
   "metadata": {},
   "source": [
    "6. Less than or equal to (<=) - checks if the left operand is less than or equal to the right operand.\n",
    "\n",
    "   Example: 5 <= 6 returns True, but 6 <= 5 returns False."
   ]
  },
  {
   "cell_type": "markdown",
   "id": "5c4338c4",
   "metadata": {},
   "source": [
    "### Logical operators\n",
    "\n",
    "There are three logical operators - \"and\", \"or\", and \"not\"."
   ]
  },
  {
   "cell_type": "code",
   "execution_count": null,
   "id": "7807366d",
   "metadata": {},
   "outputs": [],
   "source": [
    "print((5 > 3) and (6 < 9))\n",
    "print((5 > 6) and (6 < 9)) # first condition is false and second is true\n",
    "print((5 > 3) and (6 < 4)) # first condition is true and second is false"
   ]
  },
  {
   "cell_type": "code",
   "execution_count": 6,
   "id": "6278be89",
   "metadata": {},
   "outputs": [
    {
     "name": "stdout",
     "output_type": "stream",
     "text": [
      "True\n",
      "True\n",
      "True\n"
     ]
    }
   ],
   "source": [
    "print((5 > 3) or (6 < 3))\n",
    "print((5 > 4) or 10/0) # first condition is true and second is false but in \"or\" first condition is verified\n",
    "print((5 > 9) or (6 < 9)) # first condition is false then result is depend on second condition "
   ]
  },
  {
   "cell_type": "code",
   "execution_count": null,
   "id": "ce757bec",
   "metadata": {},
   "outputs": [],
   "source": [
    "not (5 > 3)"
   ]
  },
  {
   "cell_type": "markdown",
   "id": "fc0e3852",
   "metadata": {},
   "source": [
    "<span style=\"color:red\">**** Do we need 5 min break??? ****</span>"
   ]
  },
  {
   "cell_type": "markdown",
   "id": "cff2c6e0",
   "metadata": {},
   "source": [
    "# Conditional statements"
   ]
  },
  {
   "cell_type": "markdown",
   "id": "e27e2a6e",
   "metadata": {},
   "source": [
    "#### If Statement:\n",
    "\n",
    "if expression:\n",
    "\n",
    "       statement(s)\n",
    "\n",
    "#### Else Statement:\n",
    "\n",
    "if expression:\n",
    "\n",
    "       statement(s)   \n",
    "else:\n",
    "\n",
    "       statement(s)\n",
    "   \n",
    "#### Elif Statement:\n",
    "\n",
    "if expression1:\n",
    "\n",
    "       statement(s)\n",
    "\n",
    "elif expression2:\n",
    "\n",
    "       statement(s)\n",
    "\n",
    "elif expression3:\n",
    "\n",
    "       statement(s)\n",
    "\n",
    "else:\n",
    "\n",
    "       statement(s)"
   ]
  },
  {
   "cell_type": "code",
   "execution_count": null,
   "id": "242ecccb",
   "metadata": {},
   "outputs": [],
   "source": [
    "a ,b = 6 ,5 \n",
    "if a>b and a!=b:\n",
    "    print (\"a is greater than b\")\n",
    "else:\n",
    "    print (\"b is greater than a\")"
   ]
  },
  {
   "cell_type": "code",
   "execution_count": null,
   "id": "8320d1c6",
   "metadata": {},
   "outputs": [],
   "source": [
    "#try to check if number is in between low (10) and high (15)\n",
    "low, high = 10, 15\n",
    "number = int(input())\n",
    "\n",
    "if low < number < high:\n",
    "    print(\"number is in between 10 and 15\")\n",
    "else:\n",
    "    print(\"number does not follow the set condition\")"
   ]
  },
  {
   "cell_type": "code",
   "execution_count": null,
   "id": "7f016cfd",
   "metadata": {},
   "outputs": [],
   "source": [
    "int1 = 0\n",
    "int2= None\n",
    "\n",
    "if int1:\n",
    "    print (\"int1 is is True\")\n",
    "else:\n",
    "    print (\"int1 is not True\")\n",
    "    \n",
    "if int2:\n",
    "    print (\"int2 is True\")\n",
    "else:\n",
    "    print(\"int2 in not True\")\n",
    "    print (\"statment works? None is treated as false in if\")\n",
    "    \n",
    "######################################################################\n",
    "##Nested if##\n",
    "\n",
    "statement1 = \"The Moon is a planetary-mass object with a differentiated rocky body\"\n",
    "statement2 = None\n",
    "# statement1 = None\n",
    "# statement2 = \"The Moon is a planetary-mass object with a differentiated rocky body\"\n",
    "    \n",
    "if statement2:\n",
    "    if statement1:\n",
    "        print (\"{ statement2 }, { statement1 }\")\n",
    "    print (\"inside first if\")\n",
    "else:\n",
    "    print (\"python conditional statement rocks\")"
   ]
  },
  {
   "cell_type": "markdown",
   "id": "41e38efe",
   "metadata": {},
   "source": [
    "#### Ternary If statement\n",
    "\n",
    "**value_if_true** if **condition** else **value_if_false**"
   ]
  },
  {
   "cell_type": "code",
   "execution_count": null,
   "id": "d202be3e",
   "metadata": {},
   "outputs": [],
   "source": [
    "age = 18\n",
    "if age>=18:\n",
    "    print(\"eligible for driving\")\n",
    "else:\n",
    "    print(\"illegal to drive when you are minor\")\n",
    "    \n",
    "#Ternary If statement    \n",
    "\"eligible for driving\" if age>=18 else \"illegal to drive when you are minor\""
   ]
  },
  {
   "cell_type": "markdown",
   "id": "a2e2884d",
   "metadata": {},
   "source": [
    "#  Loops (for, while, for-else)"
   ]
  },
  {
   "cell_type": "markdown",
   "id": "85c53dc3",
   "metadata": {},
   "source": [
    "### for\n",
    "\n",
    "Generally used when you want to iterate over a sequence"
   ]
  },
  {
   "cell_type": "code",
   "execution_count": null,
   "id": "3c107b2a",
   "metadata": {
    "scrolled": true
   },
   "outputs": [],
   "source": [
    "number_list = [\"5\", \"thousand\", 1, \"hundred\", 55.5]\n",
    "for i in number_list:\n",
    "    print (i)"
   ]
  },
  {
   "cell_type": "markdown",
   "id": "18eca105",
   "metadata": {},
   "source": [
    "#### for using range"
   ]
  },
  {
   "cell_type": "code",
   "execution_count": null,
   "id": "cd83ab12",
   "metadata": {},
   "outputs": [],
   "source": [
    "# using range() to print a sequence of numbers\n",
    "for i in range(4):\n",
    "    print(i)\n",
    "\n",
    "#using range() with start and stop arguments\n",
    "# for i in range(1, 6):\n",
    "#     print(i)\n",
    "\n",
    "# using range() with start and stop arguments\n",
    "# for i in range(2, 6):\n",
    "#     print(i)\n",
    "\n",
    "# using range() with start, stop, and step arguments\n",
    "# for i in range(0, 10, 2):\n",
    "#     print(i)"
   ]
  },
  {
   "cell_type": "markdown",
   "id": "9cf52e51",
   "metadata": {},
   "source": [
    "### while\n",
    "\n",
    "Repeat a set of instructions while a certain condition is true.\n",
    "\n",
    "e.g. while file is open"
   ]
  },
  {
   "cell_type": "code",
   "execution_count": null,
   "id": "81cfd5b0",
   "metadata": {},
   "outputs": [],
   "source": [
    "count = 0\n",
    "while count<5:\n",
    "    count += 1\n",
    "    print (count)"
   ]
  },
  {
   "cell_type": "markdown",
   "id": "5fc66540",
   "metadata": {},
   "source": [
    "#### break and continue"
   ]
  },
  {
   "cell_type": "markdown",
   "id": "c63bd6c0",
   "metadata": {},
   "source": [
    "The **break** statement is used to exit a loop **prematurely**, before its **completion**.\n",
    "\n",
    "The **continue** statement is used to **skip** the rest of the loop for the current iteration and move to the **next**\n",
    "iteration."
   ]
  },
  {
   "cell_type": "code",
   "execution_count": null,
   "id": "7eacf5b5",
   "metadata": {},
   "outputs": [],
   "source": [
    "for number in range(1, 11):\n",
    "    if number == 5:\n",
    "        break\n",
    "    print(number)"
   ]
  },
  {
   "cell_type": "code",
   "execution_count": null,
   "id": "3b5accf0",
   "metadata": {},
   "outputs": [],
   "source": [
    "for number in range(1, 11):\n",
    "    if number == 5:\n",
    "        continue\n",
    "    print(number)"
   ]
  },
  {
   "cell_type": "markdown",
   "id": "f4b2e843",
   "metadata": {},
   "source": [
    "<span style=\"color:red\">If we have some time try to develop program to generate even numbers using continue statement. </span>"
   ]
  },
  {
   "cell_type": "markdown",
   "id": "f0df8155",
   "metadata": {},
   "source": [
    "### for-else\n",
    "\n",
    "If the for loop completes normally (i.e. all elements are processed), the else block is executed. However, if the for loop is interrupted by a break statement, the else block is skipped."
   ]
  },
  {
   "cell_type": "code",
   "execution_count": null,
   "id": "5e3016c1",
   "metadata": {},
   "outputs": [],
   "source": [
    "for x in range(11,15):  ### change range (11,16) to show break's effect on for else\n",
    "    if x == 15:\n",
    "        print (f\"value is {x}\")\n",
    "        break\n",
    "    else:\n",
    "        print (x)       \n",
    "    \n",
    "else: print ('the value 15 is not in list')"
   ]
  },
  {
   "cell_type": "markdown",
   "id": "f8439c67-44dc-4734-848a-10ca16b97f4b",
   "metadata": {},
   "source": [
    "# Functions"
   ]
  },
  {
   "cell_type": "code",
   "execution_count": null,
   "id": "cefc915e-ade5-4537-a7bb-3b0a50893a96",
   "metadata": {},
   "outputs": [],
   "source": [
    "def add(a, b):\n",
    "    return a + b\n",
    "add(10, 20)"
   ]
  },
  {
   "cell_type": "markdown",
   "id": "46625726-1ac4-4855-843e-9eb252f5e306",
   "metadata": {},
   "source": [
    "#### Function Overloading"
   ]
  },
  {
   "cell_type": "markdown",
   "id": "bdb95058-f014-4971-b4f8-b882428a58a7",
   "metadata": {},
   "source": [
    "Since python only accepts the latest function definition, function/method overloading is achieved using *args or **kwargs"
   ]
  },
  {
   "cell_type": "code",
   "execution_count": null,
   "id": "9516ef2d-ccaf-47b5-ad1b-380896fdc4fe",
   "metadata": {},
   "outputs": [],
   "source": [
    "def add(*args):\n",
    "    result = 0\n",
    "    for arg in args:\n",
    "        result += arg\n",
    "    return result\n",
    "    \n",
    "print(add(10))\n",
    "print(add(10, 20))\n",
    "print(add(10, 20, 30))\n",
    "print(add(10, 20, 30, 40))"
   ]
  },
  {
   "cell_type": "markdown",
   "id": "0c07b440-571c-4a4d-8cb6-a9de8634d5ad",
   "metadata": {},
   "source": [
    "<span>**<span style=\"color:red\">Brain Teaser:</span> what do you think when we say \"python is interpreted language\"?**</span>"
   ]
  },
  {
   "cell_type": "code",
   "execution_count": null,
   "id": "0b3cebe7-2a1a-4dc4-bd81-9016acf1ab93",
   "metadata": {},
   "outputs": [],
   "source": [
    "def funct1():\n",
    "    print(\"I am in funct1\")\n",
    "\n",
    "funct1()"
   ]
  },
  {
   "cell_type": "code",
   "execution_count": null,
   "id": "d5db5d23-5b45-4955-93b1-4aba19c85580",
   "metadata": {},
   "outputs": [],
   "source": [
    "funct2()\n",
    "\n",
    "def funct2():\n",
    "    print(\"I am in funct2\")\n",
    "    \n",
    "# Note: Python interpreter executes python code line-by-line from top to bottom"
   ]
  },
  {
   "cell_type": "markdown",
   "id": "27271f62",
   "metadata": {},
   "source": [
    "#### Comapring the same code with C - which is a compiled language"
   ]
  },
  {
   "cell_type": "code",
   "execution_count": null,
   "id": "d97c0e50",
   "metadata": {},
   "outputs": [],
   "source": [
    "// Run below in online C compiler\n",
    "// https://www.programiz.com/c-programming/online-compiler/\n",
    "#include <stdio.h>\n",
    "\n",
    "// Explain by commenting below line\n",
    "void func1();\n",
    "\n",
    "void main() {\n",
    "    // Write C code here\n",
    "    printf(\"Executing main \\n\");\n",
    "    func1();\n",
    "}\n",
    "\n",
    "void func1(){\n",
    "    printf(\"Executing func1\");\n",
    "}"
   ]
  },
  {
   "cell_type": "markdown",
   "id": "898842f9",
   "metadata": {},
   "source": [
    "# Assignment - Day 1"
   ]
  },
  {
   "cell_type": "markdown",
   "id": "35f50f5b",
   "metadata": {},
   "source": [
    "1.  Install boto3 and fastAPI package using pip\n",
    "\n",
    "2. Verify if the id of dictionary modify if we add new key in it? Try to find justification behind the result. \n",
    "\n",
    "3. Try division operator with 100 / 0 and note down the output.\n",
    "\n",
    "4.  Create a list 5 fruits and find out if “oranges” present in that list, if present then print down the index of “oranges” Note: use loop and condition."
   ]
  },
  {
   "cell_type": "code",
   "execution_count": 10,
   "id": "0bd82df4",
   "metadata": {
    "tags": [
     "hidecode"
    ]
   },
   "outputs": [],
   "source": [
    "for fruit in [\"Apple\",\"Banana\",\"Blackberry\",\"Cherry\",\"orange\"]:\n",
    "    # your code\n",
    "    pass"
   ]
  },
  {
   "cell_type": "markdown",
   "id": "5c99027d",
   "metadata": {},
   "source": [
    "5. Write python code to print below pyramid. Please note, the pyramid height must be configurable"
   ]
  },
  {
   "cell_type": "code",
   "execution_count": null,
   "id": "722f821e",
   "metadata": {},
   "outputs": [],
   "source": [
    "\"\"\"\n",
    "          *\n",
    "         **\n",
    "        ***\n",
    "       ****\n",
    "      *****\n",
    "     ******\n",
    "    *******\n",
    "   ********\n",
    "  *********\n",
    "\"\"\""
   ]
  }
 ],
 "metadata": {
  "kernelspec": {
   "display_name": "Python 3 (ipykernel)",
   "language": "python",
   "name": "python3"
  },
  "language_info": {
   "codemirror_mode": {
    "name": "ipython",
    "version": 3
   },
   "file_extension": ".py",
   "mimetype": "text/x-python",
   "name": "python",
   "nbconvert_exporter": "python",
   "pygments_lexer": "ipython3",
   "version": "3.11.5"
  }
 },
 "nbformat": 4,
 "nbformat_minor": 5
}
