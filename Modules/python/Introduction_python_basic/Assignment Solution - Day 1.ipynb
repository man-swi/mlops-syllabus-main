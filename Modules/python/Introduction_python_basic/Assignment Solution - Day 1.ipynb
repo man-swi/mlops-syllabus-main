{
 "cells": [
  {
   "cell_type": "markdown",
   "id": "1e2b28f0",
   "metadata": {},
   "source": [
    "# Assignment Solution - Day 1"
   ]
  },
  {
   "cell_type": "markdown",
   "id": "6fd9250a",
   "metadata": {},
   "source": [
    "#### 1.  Install boto3 and fastAPI package using pip\n",
    "pip install fastapi"
   ]
  },
  {
   "cell_type": "markdown",
   "id": "4348d14b",
   "metadata": {},
   "source": [
    "#### 2. Verify if the id of dictionary modify if we add new key in it? Try to find justification behind the result. "
   ]
  },
  {
   "cell_type": "code",
   "execution_count": null,
   "id": "b8c20650",
   "metadata": {},
   "outputs": [],
   "source": [
    "dict1 = {\"a\": \"1\"}\n",
    "print(dict1)\n",
    "initial_id_dict1 = id(dict1)\n",
    "print(initial_id_dict1)\n",
    "dict1[\"b\"] = \"b\"\n",
    "print(dict1)\n",
    "final_id_dict1 = id(dict1)\n",
    "print(final_id_dict1)\n",
    "initial_id_dict1 == final_id_dict1"
   ]
  },
  {
   "cell_type": "markdown",
   "id": "8a099b78",
   "metadata": {},
   "source": [
    "#### 3. Try division operator with 100 / 0 and note down the output."
   ]
  },
  {
   "cell_type": "code",
   "execution_count": null,
   "id": "e9709b70",
   "metadata": {},
   "outputs": [],
   "source": [
    "x = 10/0"
   ]
  },
  {
   "cell_type": "markdown",
   "id": "e2f3256a",
   "metadata": {},
   "source": [
    "#### 4.  Create a list 5 fruits and find out if “oranges” present in that list, if present then print down the index of “oranges” Note: use loop and condition."
   ]
  },
  {
   "cell_type": "code",
   "execution_count": null,
   "id": "a4955fcd",
   "metadata": {},
   "outputs": [],
   "source": [
    "find_fruit = \"Orange\"\n",
    "for idx, fruit in enumerate([\"Apple\",\"Banana\",\"Blackberry\",\"Cherry\",\"Orange\"]):\n",
    "    if fruit == find_fruit:\n",
    "        print (f\"{find_fruit} in list\")\n",
    "        print(idx)\n",
    "        break\n",
    "else:\n",
    "    print (f\"No {find_fruit}\")"
   ]
  },
  {
   "cell_type": "markdown",
   "id": "1dea3611",
   "metadata": {},
   "source": [
    "#### 5. Write python code to print below pyramid. Please note, the pyramid height must be configurable"
   ]
  },
  {
   "cell_type": "code",
   "execution_count": null,
   "id": "aa635582",
   "metadata": {},
   "outputs": [],
   "source": [
    "\"\"\"\n",
    "          *\n",
    "         **\n",
    "        ***\n",
    "       ****\n",
    "      *****\n",
    "     ******\n",
    "    *******\n",
    "   ********\n",
    "  *********\n",
    "\"\"\"\n",
    "pyramid_height = 10\n",
    "for row in range(1, pyramid_height):\n",
    "    print(\" \"*(pyramid_height-row), \"*\"*row)"
   ]
  }
 ],
 "metadata": {
  "kernelspec": {
   "display_name": "Python 3 (ipykernel)",
   "language": "python",
   "name": "python3"
  },
  "language_info": {
   "codemirror_mode": {
    "name": "ipython",
    "version": 3
   },
   "file_extension": ".py",
   "mimetype": "text/x-python",
   "name": "python",
   "nbconvert_exporter": "python",
   "pygments_lexer": "ipython3",
   "version": "3.11.5"
  }
 },
 "nbformat": 4,
 "nbformat_minor": 5
}
